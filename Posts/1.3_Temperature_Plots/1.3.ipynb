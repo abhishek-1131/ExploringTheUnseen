{
 "metadata": {
  "language_info": {
   "codemirror_mode": {
    "name": "ipython",
    "version": 3
   },
   "file_extension": ".py",
   "mimetype": "text/x-python",
   "name": "python",
   "nbconvert_exporter": "python",
   "pygments_lexer": "ipython3",
   "version": 3
  },
  "orig_nbformat": 2,
  "kernelspec": {
   "name": "python_defaultSpec_1595627538192",
   "display_name": "Python 3.7.6 64-bit ('base': conda)"
  }
 },
 "nbformat": 4,
 "nbformat_minor": 2,
 "cells": [
  {
   "cell_type": "code",
   "execution_count": 35,
   "metadata": {},
   "outputs": [],
   "source": [
    "import pandas as pd\n",
    "import numpy as np\n",
    "import plotly.express as px"
   ]
  },
  {
   "cell_type": "code",
   "execution_count": 36,
   "metadata": {
    "tags": []
   },
   "outputs": [
    {
     "output_type": "execute_result",
     "data": {
      "text/plain": "             Date Country           City       Specie  count   min   max  \\\n0      30-12-2019      IN      Bengaluru           co    232   1.6  28.6   \n1      31-12-2019      IN      Bengaluru           co    217   0.4  29.7   \n2      01-01-2020      IN      Bengaluru           co    180   1.2  40.2   \n3      02-01-2020      IN      Bengaluru           co    192   0.2  60.3   \n4      03-01-2020      IN      Bengaluru           co    237   0.7  86.4   \n...           ...     ...            ...          ...    ...   ...   ...   \n12200  25-06-2020      IN  Visakhapatnam  temperature     24  27.4  40.2   \n12201  26-06-2020      IN  Visakhapatnam  temperature     24  26.6  40.9   \n12202  27-06-2020      IN  Visakhapatnam  temperature     24  26.9  40.5   \n12203  28-06-2020      IN  Visakhapatnam  temperature     24  26.2  40.7   \n12204  29-06-2020      IN  Visakhapatnam  temperature     13  28.2  40.9   \n\n       median  variance  \n0         8.6    228.74  \n1         8.9    287.50  \n2         9.8    246.08  \n3         9.3    570.86  \n4         8.0    523.38  \n...       ...       ...  \n12200    32.9    161.66  \n12201    34.4    169.07  \n12202    33.0    200.34  \n12203    33.8    188.73  \n12204    36.4    189.57  \n\n[12205 rows x 9 columns]",
      "text/html": "<div>\n<style scoped>\n    .dataframe tbody tr th:only-of-type {\n        vertical-align: middle;\n    }\n\n    .dataframe tbody tr th {\n        vertical-align: top;\n    }\n\n    .dataframe thead th {\n        text-align: right;\n    }\n</style>\n<table border=\"1\" class=\"dataframe\">\n  <thead>\n    <tr style=\"text-align: right;\">\n      <th></th>\n      <th>Date</th>\n      <th>Country</th>\n      <th>City</th>\n      <th>Specie</th>\n      <th>count</th>\n      <th>min</th>\n      <th>max</th>\n      <th>median</th>\n      <th>variance</th>\n    </tr>\n  </thead>\n  <tbody>\n    <tr>\n      <th>0</th>\n      <td>30-12-2019</td>\n      <td>IN</td>\n      <td>Bengaluru</td>\n      <td>co</td>\n      <td>232</td>\n      <td>1.6</td>\n      <td>28.6</td>\n      <td>8.6</td>\n      <td>228.74</td>\n    </tr>\n    <tr>\n      <th>1</th>\n      <td>31-12-2019</td>\n      <td>IN</td>\n      <td>Bengaluru</td>\n      <td>co</td>\n      <td>217</td>\n      <td>0.4</td>\n      <td>29.7</td>\n      <td>8.9</td>\n      <td>287.50</td>\n    </tr>\n    <tr>\n      <th>2</th>\n      <td>01-01-2020</td>\n      <td>IN</td>\n      <td>Bengaluru</td>\n      <td>co</td>\n      <td>180</td>\n      <td>1.2</td>\n      <td>40.2</td>\n      <td>9.8</td>\n      <td>246.08</td>\n    </tr>\n    <tr>\n      <th>3</th>\n      <td>02-01-2020</td>\n      <td>IN</td>\n      <td>Bengaluru</td>\n      <td>co</td>\n      <td>192</td>\n      <td>0.2</td>\n      <td>60.3</td>\n      <td>9.3</td>\n      <td>570.86</td>\n    </tr>\n    <tr>\n      <th>4</th>\n      <td>03-01-2020</td>\n      <td>IN</td>\n      <td>Bengaluru</td>\n      <td>co</td>\n      <td>237</td>\n      <td>0.7</td>\n      <td>86.4</td>\n      <td>8.0</td>\n      <td>523.38</td>\n    </tr>\n    <tr>\n      <th>...</th>\n      <td>...</td>\n      <td>...</td>\n      <td>...</td>\n      <td>...</td>\n      <td>...</td>\n      <td>...</td>\n      <td>...</td>\n      <td>...</td>\n      <td>...</td>\n    </tr>\n    <tr>\n      <th>12200</th>\n      <td>25-06-2020</td>\n      <td>IN</td>\n      <td>Visakhapatnam</td>\n      <td>temperature</td>\n      <td>24</td>\n      <td>27.4</td>\n      <td>40.2</td>\n      <td>32.9</td>\n      <td>161.66</td>\n    </tr>\n    <tr>\n      <th>12201</th>\n      <td>26-06-2020</td>\n      <td>IN</td>\n      <td>Visakhapatnam</td>\n      <td>temperature</td>\n      <td>24</td>\n      <td>26.6</td>\n      <td>40.9</td>\n      <td>34.4</td>\n      <td>169.07</td>\n    </tr>\n    <tr>\n      <th>12202</th>\n      <td>27-06-2020</td>\n      <td>IN</td>\n      <td>Visakhapatnam</td>\n      <td>temperature</td>\n      <td>24</td>\n      <td>26.9</td>\n      <td>40.5</td>\n      <td>33.0</td>\n      <td>200.34</td>\n    </tr>\n    <tr>\n      <th>12203</th>\n      <td>28-06-2020</td>\n      <td>IN</td>\n      <td>Visakhapatnam</td>\n      <td>temperature</td>\n      <td>24</td>\n      <td>26.2</td>\n      <td>40.7</td>\n      <td>33.8</td>\n      <td>188.73</td>\n    </tr>\n    <tr>\n      <th>12204</th>\n      <td>29-06-2020</td>\n      <td>IN</td>\n      <td>Visakhapatnam</td>\n      <td>temperature</td>\n      <td>13</td>\n      <td>28.2</td>\n      <td>40.9</td>\n      <td>36.4</td>\n      <td>189.57</td>\n    </tr>\n  </tbody>\n</table>\n<p>12205 rows × 9 columns</p>\n</div>"
     },
     "metadata": {},
     "execution_count": 36
    }
   ],
   "source": [
    "df=pd.read_csv('C:\\\\Users\\\\Yash Damania\\\\Documents\\\\ExploringTheUnseen\\\\Posts\\\\1.3_Temperature_Plots\\\\2020_7cities_temp.csv')\n",
    "df"
   ]
  },
  {
   "cell_type": "code",
   "execution_count": null,
   "metadata": {},
   "outputs": [],
   "source": [
    "plt.scatter"
   ]
  },
  {
   "cell_type": "code",
   "execution_count": 31,
   "metadata": {},
   "outputs": [
    {
     "output_type": "execute_result",
     "data": {
      "text/plain": "no2            1278\npm25           1278\no3             1278\nso2            1278\nco             1264\npm10           1225\nhumidity       1152\npressure       1151\ntemperature    1151\ndew            1150\nName: Specie, dtype: int64"
     },
     "metadata": {},
     "execution_count": 31
    }
   ],
   "source": [
    "'''\n",
    "city=['Delhi','Hyderabad','Mumbai','Chennai','Bengaluru','Kolkata','Visakhapatnam']\n",
    "gas=['no2','pm25','o3','so2','co','pm10','humidity','pressure','temperature','dew']\n",
    "df=df[df['City'].isin(city)]\n",
    "df=df[df['Specie'].isin(gas)]\n",
    "df.Specie.value_counts()\n",
    "'''"
   ]
  },
  {
   "cell_type": "code",
   "execution_count": null,
   "metadata": {},
   "outputs": [],
   "source": []
  }
 ]
}