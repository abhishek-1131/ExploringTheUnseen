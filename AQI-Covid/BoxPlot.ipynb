{
 "cells": [
  {
   "cell_type": "markdown",
   "metadata": {},
   "source": [
    "## Summary Statistics\n",
    "\n",
    "This notebook creates a box-plot visualization of the variance of different pollutants in each month for different cities. The data is read from the file multi_city.csv"
   ]
  },
  {
   "cell_type": "code",
   "execution_count": null,
   "metadata": {},
   "outputs": [],
   "source": [
    "import matplotlib.pyplot as plt\n",
    "import pandas as pd\n",
    "import numpy as np\n",
    "\n",
    "plt.style.use('seaborn-bright')"
   ]
  },
  {
   "cell_type": "code",
   "execution_count": null,
   "metadata": {},
   "outputs": [],
   "source": [
    "df = pd.read_csv('multi_city.csv')"
   ]
  },
  {
   "cell_type": "markdown",
   "metadata": {},
   "source": [
    "## A quick look at the data, make sure we understand what's what"
   ]
  },
  {
   "cell_type": "code",
   "execution_count": null,
   "metadata": {},
   "outputs": [],
   "source": [
    "df.describe()"
   ]
  },
  {
   "cell_type": "code",
   "execution_count": null,
   "metadata": {},
   "outputs": [],
   "source": [
    "df.head()"
   ]
  },
  {
   "cell_type": "markdown",
   "metadata": {},
   "source": [
    "Interesting: The dataframe has columns for City and date, followed by *four* pollutants, but describe() only summarizes three of them.\n",
    "\n",
    "Let's also see what cities we have...\n"
   ]
  },
  {
   "cell_type": "code",
   "execution_count": null,
   "metadata": {},
   "outputs": [],
   "source": [
    "df.City.unique()"
   ]
  },
  {
   "cell_type": "code",
   "execution_count": null,
   "metadata": {},
   "outputs": [],
   "source": [
    "df[df.City == 'Pune'].describe()"
   ]
  },
  {
   "cell_type": "code",
   "execution_count": null,
   "metadata": {},
   "outputs": [],
   "source": [
    "df.dtypes"
   ]
  },
  {
   "cell_type": "markdown",
   "metadata": {},
   "source": [
    "Aha! and here's why pm10 wasn't being described. We need to convert it to int64, and also encode the date column appropriately\n",
    "\n",
    "## A bit of cleanup!\n",
    "When I tried chaging the type of the pm10, I get an error -- there's an entry that cannot be interpreted as an int, even though I'm looking for NaNs and empty strings"
   ]
  },
  {
   "cell_type": "code",
   "execution_count": null,
   "metadata": {},
   "outputs": [],
   "source": [
    "print(np.where(pd.isnull(df)))\n",
    "print(np.where(df.applymap(lambda x: x == '')))"
   ]
  },
  {
   "cell_type": "markdown",
   "metadata": {},
   "source": [
    "### A bit of a hack\n",
    "Row 437 has an empty value for pm10, but this is not detected either by isnull or as an empty string. In the original csv, the cell is just... empty! How do we detect and remove these?\n",
    "\n",
    "For now, I'm just going to remove this row"
   ]
  },
  {
   "cell_type": "code",
   "execution_count": null,
   "metadata": {},
   "outputs": [],
   "source": [
    "df.iloc[437]"
   ]
  },
  {
   "cell_type": "code",
   "execution_count": null,
   "metadata": {},
   "outputs": [],
   "source": [
    "df.drop(index=437, inplace=True)"
   ]
  },
  {
   "cell_type": "markdown",
   "metadata": {},
   "source": [
    "The interpretation of the date column gets messed up -- to_datetime is not able to figure out which is the day and which is the month. I force it using the format"
   ]
  },
  {
   "cell_type": "code",
   "execution_count": null,
   "metadata": {},
   "outputs": [],
   "source": [
    "df.date = pd.to_datetime(df.date, format = '%d/%m/%Y') # need the format string to specify which is the month and which is the year\n",
    "df.pm10 = pd.to_numeric(df.pm10)\n",
    "df.dtypes"
   ]
  },
  {
   "cell_type": "markdown",
   "metadata": {},
   "source": [
    "Finally, I add another column that just encodes the months. This helps me create the box plots grouped by month (see below)\n",
    "\n",
    "I also sort the dataframe so that cities line up nicely (most to least polluted also corresponds to alphabetical order, in this case!)"
   ]
  },
  {
   "cell_type": "code",
   "execution_count": null,
   "metadata": {},
   "outputs": [],
   "source": [
    "df['month'] = pd.DatetimeIndex(df['date']).month\n",
    "\n",
    "df['Month'] = df.date.dt.month_name()\n",
    "df.sort_values(by=['City'], kind='mergesort', inplace=True)"
   ]
  },
  {
   "cell_type": "code",
   "execution_count": null,
   "metadata": {},
   "outputs": [],
   "source": [
    "df.head()"
   ]
  },
  {
   "cell_type": "markdown",
   "metadata": {},
   "source": [
    "## Plot the data! PM 2.5"
   ]
  },
  {
   "cell_type": "code",
   "execution_count": null,
   "metadata": {},
   "outputs": [],
   "source": [
    "fig, ax = plt.subplots(1, 3, figsize=(18,5), sharey=True)\n",
    "plt.title('')\n",
    "plt.suptitle('')\n",
    "\n",
    "for i, c in enumerate(df.City.unique()):\n",
    "    df[df.City == c].boxplot(column='pm25', by='month', ax=ax[i])\n",
    "    #print(i, \":\", c)\n",
    "    ax[i].set_title(c)\n",
    "    ax[i].axhline(25, c='g')\n",
    "    ax[i].axhline(60, c='orange')\n",
    "\n",
    "plt.show()"
   ]
  },
  {
   "cell_type": "markdown",
   "metadata": {},
   "source": [
    "I don't like the 'month' label at the bottom and the 'Boxplot grouped by month' title, but not enough that I'll invest the time and energy to fix it!"
   ]
  },
  {
   "cell_type": "markdown",
   "metadata": {},
   "source": [
    "## PM 10"
   ]
  },
  {
   "cell_type": "code",
   "execution_count": null,
   "metadata": {},
   "outputs": [],
   "source": [
    "fig, ax = plt.subplots(1, 3, figsize=(15,8), sharey=True)\n",
    "plt.title('')\n",
    "plt.suptitle('')\n",
    "\n",
    "for i, c in enumerate(df.City.unique()):\n",
    "    df[df.City == c].boxplot(column='pm10', by='month', ax=ax[i])\n",
    "    #print(i, \":\", c)\n",
    "    ax[i].set_title(c)\n",
    "    ax[i].axhline(50, c='g')\n",
    "    ax[i].axhline(100, c='orange')\n",
    "\n",
    "plt.show()"
   ]
  },
  {
   "cell_type": "markdown",
   "metadata": {},
   "source": [
    "## CO"
   ]
  },
  {
   "cell_type": "code",
   "execution_count": null,
   "metadata": {},
   "outputs": [],
   "source": [
    "fig, ax = plt.subplots(1, 3, figsize=(15,8), sharey=True)\n",
    "plt.title('')\n",
    "plt.suptitle('')\n",
    "\n",
    "for i, c in enumerate(df.City.unique()):\n",
    "    df[df.City == c].boxplot(column='co', by='month', ax=ax[i])\n",
    "    #print(i, \":\", c)\n",
    "    ax[i].set_title(c)\n",
    "    #ax[i].axhline(100, c='g')\n",
    "    #ax[i].axhline(100, c='orange')\n",
    "plt.show()"
   ]
  },
  {
   "cell_type": "markdown",
   "metadata": {},
   "source": [
    "## O3"
   ]
  },
  {
   "cell_type": "code",
   "execution_count": null,
   "metadata": {},
   "outputs": [],
   "source": [
    "fig, ax = plt.subplots(1, 3, figsize=(15,8), sharey=True)\n",
    "plt.title('')\n",
    "plt.suptitle('')\n",
    "\n",
    "for i, c in enumerate(df.City.unique()):\n",
    "    df[df.City == c].boxplot(column='o3', by='month', ax=ax[i])\n",
    "    #print(i, \":\", c)\n",
    "    ax[i].set_title(c)\n",
    "    ax[i].axhline(100, c='g')\n",
    "    #ax[i].axhline(100, c='orange')\n",
    "plt.show()"
   ]
  },
  {
   "cell_type": "markdown",
   "metadata": {},
   "source": [
    "## and all together\n",
    "\n",
    "Just because I want to!"
   ]
  },
  {
   "cell_type": "code",
   "execution_count": null,
   "metadata": {},
   "outputs": [],
   "source": [
    "fig, ax = plt.subplots(4, 3, figsize=(15,16), sharey='row')\n",
    "plt.title('')\n",
    "plt.suptitle('')\n",
    "cities = df.City.unique()\n",
    "polls = ['pm25', 'pm10', 'co', 'o3']\n",
    "\n",
    "for i, a in enumerate(ax.flatten()):\n",
    "    p = polls[i // len(cities)]\n",
    "    c = cities[i % len(cities)]\n",
    "    df[df.City == c].boxplot(column=p, by='month', ax=a)\n",
    "    #print(i, \":\", p, \":\", c)\n",
    "    a.set_title(c)\n",
    "    #ax[i].axhline(100, c='g')\n",
    "    #ax[i].axhline(100, c='orange')\n",
    "plt.show()"
   ]
  }
 ],
 "metadata": {
  "kernelspec": {
   "display_name": "Python 3",
   "language": "python",
   "name": "python3"
  },
  "language_info": {
   "codemirror_mode": {
    "name": "ipython",
    "version": 3
   },
   "file_extension": ".py",
   "mimetype": "text/x-python",
   "name": "python",
   "nbconvert_exporter": "python",
   "pygments_lexer": "ipython3",
   "version": "3.6.6"
  }
 },
 "nbformat": 4,
 "nbformat_minor": 4
}
