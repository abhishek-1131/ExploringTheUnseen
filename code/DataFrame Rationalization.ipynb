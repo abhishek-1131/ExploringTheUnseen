{
 "cells": [
  {
   "cell_type": "markdown",
   "metadata": {},
   "source": [
    "## DataFrame Rationalization\n",
    "\n",
    "We have data in two different formats. For large cities, the tables are organized as follows:\n",
    "\n",
    "The primary columns are Date, City and Specie (pollutant). The remaining columns report the count, min, max, median and variance of the pollutant for that city on that particular date. \n",
    "\n",
    "`Unnamed: 0\tDate\tCountry\tCity\tSpecie\tcount\tmin\tmax\tmedian\tvariance\n",
    "2\t2979\t06/04/2020\tIN\tHyderabad\tno2\t95\t0.1\t31.2\t6.1\t848.08`\n",
    "\n",
    "Thus, in order to extract either the pollutant or the City, we need to filter the rows: I use something along the lines of\n",
    "`df[(df.City == c)]` and `df[(df.Specie == p)]` and these can ofcourse be combined. \n",
    "\n",
    "For rural areas, however, the data is organized differently. The primary columns are now the Data and the City, and for each, the remaining columns report the pollution levels for different pollutants.\n",
    "\n",
    "`       \tdate\tpm25\tpm10\to3\tno2\tso2\tco\tcity\n",
    "3\t06/01/2020\t62\t20\t9\t19\t2\t8\tcoimbatore`\n",
    "\n",
    "So we can extract data for a city and then use the column to get the data for a pollutant, using a variant of `df[(df.City == c), 'pm25']`\n",
    "\n",
    "This works fine when plotting things separately for rural and urban regions. However, what happens when we want to compare the data from the two tables? We need to convert these two datas into a single representation. Depending on what we want to do with the data, one format will be preferred over the other. In this sheet, I document how to do this both ways. \n"
   ]
  },
  {
   "cell_type": "code",
   "execution_count": null,
   "metadata": {},
   "outputs": [],
   "source": [
    "import pandas as pd"
   ]
  },
  {
   "cell_type": "markdown",
   "metadata": {},
   "source": [
    "----\n",
    "First, let's load in the data and clean it up a bit:"
   ]
  },
  {
   "cell_type": "code",
   "execution_count": null,
   "metadata": {},
   "outputs": [],
   "source": [
    "year = 2020\n",
    "df_r = pd.read_csv(f'data/{year}_7rural.csv')\n",
    "df_u = pd.read_csv(f'data/{year}_7cities.csv')"
   ]
  },
  {
   "cell_type": "code",
   "execution_count": null,
   "metadata": {},
   "outputs": [],
   "source": [
    "print(df_r.head(5))\n",
    "print(df_u.head(5))"
   ]
  },
  {
   "cell_type": "code",
   "execution_count": null,
   "metadata": {},
   "outputs": [],
   "source": [
    "# cleanup: rename the column titles for rural, remove min/max/count and variance for urban. \n",
    "df_r.rename(columns = {'date':'Date', 'city':'City'}, inplace=True)\n",
    "df_u.drop(['Unnamed: 0', 'count', 'min', 'max', 'variance', 'Country'], axis=1, inplace=True)\n",
    "\n",
    "# Fix the Dates for both and remove data that does not belong to the current year\n",
    "df_r.Date = pd.to_datetime(df_r.Date, format = '%d/%m/%Y') \n",
    "df_u.Date = pd.to_datetime(df_u.Date, format = '%d/%m/%Y') \n",
    "    # we need the format string to specify which is the month and which is the year\n",
    "df_r = df_r[df_r['Date'].dt.year == year]\n",
    "df_u = df_u[df_u['Date'].dt.year == year]"
   ]
  },
  {
   "cell_type": "code",
   "execution_count": null,
   "metadata": {},
   "outputs": [],
   "source": [
    "print(df_r.head(5))\n",
    "print(df_u.head(5))"
   ]
  },
  {
   "cell_type": "markdown",
   "metadata": {},
   "source": [
    "----\n",
    "### 1. Converting the Rural to the Urban format\n",
    "\n",
    "The format of both tables is as above. For every city and date, we'd like to add an additional row for each pollutant. This is pretty easy to do using the `melt` method:"
   ]
  },
  {
   "cell_type": "code",
   "execution_count": null,
   "metadata": {},
   "outputs": [],
   "source": [
    "df_ru = pd.melt(df_r, id_vars=['City', 'Date'], value_vars=['pm25', 'pm10','o3', 'no2', 'so2', 'co'] )\n",
    "df_ru.rename(columns = {'variable':'Specie', 'value':'Value'}, inplace=True)\n",
    "df_uu = df_u.copy()\n",
    "df_uu.rename(columns = {'median':'Value'}, inplace=True)\n",
    "print(\"rural:\", df_ru.shape)\n",
    "print(df_ru.head(5))\n",
    "print(\"urban:\", df_uu.shape)\n",
    "print(df_uu.head(5))"
   ]
  },
  {
   "cell_type": "markdown",
   "metadata": {},
   "source": [
    "... and we're pretty much done! As a finishing touch, I'll just merge these into one table:"
   ]
  },
  {
   "cell_type": "code",
   "execution_count": null,
   "metadata": {},
   "outputs": [],
   "source": [
    "combo_u = pd.concat([df_uu, df_ru], sort=False)\n",
    "combo_u"
   ]
  },
  {
   "cell_type": "markdown",
   "metadata": {},
   "source": [
    "----\n",
    "### 2. Converting the Urban to the Rural format"
   ]
  },
  {
   "cell_type": "code",
   "execution_count": null,
   "metadata": {},
   "outputs": [],
   "source": [
    "print(df_r.head(5))\n",
    "print(df_u.head(5))"
   ]
  },
  {
   "cell_type": "markdown",
   "metadata": {},
   "source": [
    "What we want to do here is split up the urban data so that we have a column for each pollutant, and the primary columns are Dates and Citys\n",
    "\n",
    "Fairly straightforward to accomplish:"
   ]
  },
  {
   "cell_type": "code",
   "execution_count": null,
   "metadata": {},
   "outputs": [],
   "source": [
    "# attempt 1:\n",
    "df_ur = df_u.pivot_table(index=['City', 'Date'], columns='Specie')\n",
    "df_ur\n",
    "# df_ur.reset_index()"
   ]
  },
  {
   "cell_type": "code",
   "execution_count": null,
   "metadata": {},
   "outputs": [],
   "source": [
    "# attempt 2\n",
    "df_ur = df_u.set_index(['Date', 'City', 'Specie'])['median'].unstack().reset_index()"
   ]
  },
  {
   "cell_type": "markdown",
   "metadata": {},
   "source": [
    "... and as before, merging with the rural data"
   ]
  },
  {
   "cell_type": "code",
   "execution_count": null,
   "metadata": {},
   "outputs": [],
   "source": [
    "combo_r = pd.concat([df_r, df_ur], sort=False)\n",
    "combo_r"
   ]
  }
 ],
 "metadata": {
  "kernelspec": {
   "display_name": "Python 3",
   "language": "python",
   "name": "python3"
  },
  "language_info": {
   "codemirror_mode": {
    "name": "ipython",
    "version": 3
   },
   "file_extension": ".py",
   "mimetype": "text/x-python",
   "name": "python",
   "nbconvert_exporter": "python",
   "pygments_lexer": "ipython3",
   "version": "3.8.3"
  }
 },
 "nbformat": 4,
 "nbformat_minor": 4
}
